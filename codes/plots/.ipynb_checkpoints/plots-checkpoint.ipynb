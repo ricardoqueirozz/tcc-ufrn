{
 "cells": [
  {
   "cell_type": "code",
   "execution_count": 48,
   "metadata": {},
   "outputs": [
    {
     "name": "stdout",
     "output_type": "stream",
     "text": [
      "[46.63803162 46.20940272 44.94965132 42.16871876 46.05690015 41.91729238\n",
      " 43.28067311 43.55426603 42.24828946 42.23139088 43.27168208 42.36071526\n",
      " 42.70055052 41.56238366 42.57115359 41.04109529 43.43716835 43.69999396\n",
      " 42.84519676 42.84425812 41.38819928 43.39687491 42.05896459 42.69051925\n",
      " 44.59961841 42.36471143 43.88348935 43.7617377  42.82962608 44.8175186\n",
      " 46.84175172 48.42760539 47.10286196 47.24132991 47.00122037 46.70303159\n",
      " 46.16260902 44.83236081 47.17264767 43.31130314 45.78897001 44.66222977\n",
      " 44.74799513 42.56700862 44.56118362 44.49762806 43.03688405 43.86125075\n",
      " 44.83802904 43.84935646 41.56814456 45.16617181 46.5605319  44.26267753\n",
      " 44.53531713 44.09291723 44.39530321 43.75673622 43.97591882 45.54251274\n",
      " 46.19158357 44.94795045 45.67181703 45.12530408 47.11028802 47.90582528\n",
      " 46.52634896 45.36705597 44.02176063 44.94087836 44.95613669 43.84606646\n",
      " 42.63941152 42.77809821 44.27634233 44.03156648 42.67102293 43.02533343\n",
      " 43.05947135 43.03985282 42.31427922 43.52097106 41.7182072  41.89101984\n",
      " 41.04641939 42.21139406 42.4596144  39.64001394 42.06043861 44.24100422\n",
      " 42.19564797 42.92635493 41.69530237 42.62628041 41.85038827 41.99583867\n",
      " 42.31446845 43.82221792 44.17159411 43.54562625 44.4699482  42.01532348\n",
      " 44.73098211 43.58242198 44.55294871 44.37774129 43.76901876 43.66169723\n",
      " 44.34232559 45.69623665 44.26737232 45.89279725 45.71018778 46.3260991\n",
      " 45.9478583  47.26224591 40.17427957 44.50559256 43.74888631 41.97642222\n",
      " 43.39959976 44.53608258 44.18180661 43.89536652 45.72082409 44.80548649\n",
      " 41.70834004 43.6837758  45.53438844 42.81229692 44.93075105 45.18313895\n",
      " 45.98245355 44.53746449 44.28792781 43.02287589 43.48030104 43.26366481\n",
      " 42.87173041 47.75871776 46.90489264 46.50625726 45.16508428 45.18170584\n",
      " 45.1006801  46.32054006 43.36254778 43.12887698 43.13914176 45.57222945]\n"
     ]
    }
   ],
   "source": [
    "# loading in modules\n",
    "import pandas as pd\n",
    "\n",
    "# Read the CSV file\n",
    "airbnb_data = pd.read_csv(\"/home/ricardo/Repositories/tcc/plots/results_intel-256_NrV2X_SimPerScriptCampaign_Campaign_1_Fase_2_dataRateBe/data/PIR-V2X-CDF.csv\")\n",
    "\n",
    "# View the first 5 rows\n",
    "airbnb_data.head()\n",
    "\n",
    "# creating file path\n",
    "csvfile = '/home/ricardo/Repositories/tcc/plots/results_intel-512_NrV2X_SimPerScriptCampaign_Campaign_1_Fase_3_dataRateBe/JOB0/Sim_0/V2X_TCC_Campaign_1_Fase_3.db'\n",
    "\n",
    "# Connect to the database\n",
    "con = sqlite3.connect(dbfile)\n",
    "\n",
    "cursor = con.cursor()\n",
    "cursor.execute(\"SELECT name FROM sqlite_master WHERE type = 'table';\")\n",
    "list_of_tables = cursor.fetchall()\n",
    "#print(list_of_tables)\n",
    "df_tables = {}\n",
    "\n",
    "for table in list_of_tables: \n",
    "    if table == ('avrgPir',) or table == ('thput',) or table == ('avrgPrr',) or table == ('psschRxUePhy',):\n",
    "        df_tables[table] = pd.read_sql_query(\"SELECT * FROM \"+table[0]+\";\", con)\n",
    "con.close()\n",
    "#print(df_tables)\n",
    "\n",
    "vtmetric = []\n",
    "vtmetric2 = []\n",
    "dfmetricA = df_tables[('psschRxUePhy',)][['rnti','avrgSinr']]\n",
    "for irnti in dfmetricA['rnti'].unique():\n",
    "    vtmetric2=dfmetricA[(dfmetricA['rnti']==irnti)].dropna()\n",
    "    vtmetric2 = np.mean(vtmetric2['avrgSinr'])\n",
    "    vtmetric2 = 10*np.log10(vtmetric2)\n",
    "    vtmetric = np.append(vtmetric,vtmetric2)\n",
    "print(vtmetric)\n",
    "    \n"
   ]
  },
  {
   "cell_type": "code",
   "execution_count": null,
   "metadata": {},
   "outputs": [],
   "source": []
  }
 ],
 "metadata": {
  "kernelspec": {
   "display_name": "Python 3",
   "language": "python",
   "name": "python3"
  },
  "language_info": {
   "codemirror_mode": {
    "name": "ipython",
    "version": 3
   },
   "file_extension": ".py",
   "mimetype": "text/x-python",
   "name": "python",
   "nbconvert_exporter": "python",
   "pygments_lexer": "ipython3",
   "version": "3.8.5"
  }
 },
 "nbformat": 4,
 "nbformat_minor": 4
}
