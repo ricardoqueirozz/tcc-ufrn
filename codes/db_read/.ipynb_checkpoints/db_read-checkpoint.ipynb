{
 "cells": [
  {
   "cell_type": "code",
   "execution_count": null,
   "metadata": {},
   "outputs": [],
   "source": [
    "# loading in modules\n",
    "import sqlite3\n",
    "import pandas as pd\n",
    "\n",
    "# creating file path\n",
    "dbfile = '/home/ricardo/Repositories/tcc/plots/results_intel-512_NrMmtc_SimPerScriptCampaign_SimTest_dataRateBe/JOB0/Sim_0default-nr-v2x-west-to-east-highway.db'\n",
    "\n",
    "# Connect to the database\n",
    "con = sqlite3.connect(dbfile)\n",
    "\n",
    "cursor = con.cursor()\n",
    "cursor.execute(\"SELECT name FROM sqlite_master WHERE type = 'table';\")\n",
    "list_of_tables = cursor.fetchall()\n",
    "#print(list_of_tables)\n",
    "df_tables = {}\n",
    "\n",
    "for table in list_of_tables: \n",
    "    if table == ('avrgPir',) or table == ('thput',) or table == ('avrgPrr',):\n",
    "        df_tables[table] = pd.read_sql_query(\"SELECT * FROM \"+table[0]+\";\", con)\n",
    "con.close()\n",
    "\n",
    "pir = data_frames[('avrgPir',)]['avrgPirSec']\n",
    "prr = data_frames[('avrgPrr',)]['avrgPrr']\n",
    "tput = data_frames[('thput',)]['thputKbps']\n",
    "print(pir)\n",
    "print(pir)\n",
    "print(prr)\n",
    "print(tput)\n"
   ]
  },
  {
   "cell_type": "code",
   "execution_count": null,
   "metadata": {},
   "outputs": [],
   "source": []
  }
 ],
 "metadata": {
  "kernelspec": {
   "display_name": "Python 3",
   "language": "python",
   "name": "python3"
  },
  "language_info": {
   "codemirror_mode": {
    "name": "ipython",
    "version": 3
   },
   "file_extension": ".py",
   "mimetype": "text/x-python",
   "name": "python",
   "nbconvert_exporter": "python",
   "pygments_lexer": "ipython3",
   "version": "3.8.5"
  }
 },
 "nbformat": 4,
 "nbformat_minor": 4
}
