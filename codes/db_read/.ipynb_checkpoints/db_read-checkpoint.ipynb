{
 "cells": [
  {
   "cell_type": "code",
   "execution_count": 42,
   "metadata": {},
   "outputs": [
    {
     "name": "stdout",
     "output_type": "stream",
     "text": [
      "[0.15767264 0.16173195 0.17253269 0.1804179  0.20700373 0.21684197\n",
      " 0.23252778 0.23505968 0.23669556 0.24432937 0.25262874 0.24784458\n",
      " 0.24994939 0.25859021 0.26118033 0.24989615 0.26016036 0.25460373\n",
      " 0.25631803 0.2511928  0.24929521 0.24186019 0.23332859 0.23172224\n",
      " 0.2186563  0.20349601 0.1934656  0.20223124 0.17385275 0.16717594\n",
      " 0.16631239 0.15906059 0.1530722  0.16356817 0.16378684 0.16653783\n",
      " 0.20209785 0.20949723 0.21354582 0.22778218 0.2158687  0.23438966\n",
      " 0.23594819 0.23921747 0.24371605 0.25297927 0.24430611 0.25159006\n",
      " 0.25400697 0.25677505 0.27182793 0.25988932 0.2479704  0.25299788\n",
      " 0.25302891 0.24139039 0.24561892 0.23622391 0.23437392 0.21985567\n",
      " 0.20518332 0.19440029 0.18235458 0.17094341 0.16919668 0.17229296\n",
      " 0.16810921 0.17155046 0.15595128 0.15260244 0.1720498  0.1731783\n",
      " 0.18123262 0.19999191 0.19982286 0.20644232 0.21792913 0.23300782\n",
      " 0.22483482 0.23760072 0.2355752  0.24127791 0.2423919  0.24798689\n",
      " 0.24738388 0.2500504  0.2508489  0.23870464 0.25396047 0.24944396\n",
      " 0.25362044 0.25246294 0.24889487 0.24473538 0.23557333 0.2301108\n",
      " 0.2001241  0.17866898 0.16141197 0.15908674 0.16837492 0.25352685\n",
      " 0.22064703 0.17856605 0.17508922 0.15277591 0.17229156 0.15279168\n",
      " 0.16263965 0.22038867 0.17902263 0.1758044  0.16017577 0.16263005\n",
      " 0.16987432 0.16060202 0.22697204 0.20691244 0.20020669 0.18658284\n",
      " 0.18114179 0.17291812 0.1571175  0.16597379 0.17073281 0.1667093\n",
      " 0.20095248 0.17742698 0.16652495 0.17709215 0.16606159 0.16166742\n",
      " 0.17282074 0.16615113 0.14489461 0.15148089 0.16384833 0.18630609\n",
      " 0.19700131 0.16297335 0.1484046  0.16145146 0.17768893 0.17443557\n",
      " 0.18442523 0.16567982 0.16724189 0.19010146 0.16085497 0.15438303]\n"
     ]
    }
   ],
   "source": [
    "# loading in modules\n",
    "import sqlite3\n",
    "import pandas as pd\n",
    "\n",
    "# creating file path\n",
    "dbfile = '/home/ricardo/Repositories/tcc/plots/results_intel-512_NrV2X_SimPerScriptCampaign_Campaign_1_Fase_3_dataRateBe/JOB0/Sim_0/V2X_TCC_Campaign_1_Fase_3.db'\n",
    "\n",
    "# Connect to the database\n",
    "con = sqlite3.connect(dbfile)\n",
    "\n",
    "cursor = con.cursor()\n",
    "cursor.execute(\"SELECT name FROM sqlite_master WHERE type = 'table';\")\n",
    "list_of_tables = cursor.fetchall()\n",
    "#print(list_of_tables)\n",
    "df_tables = {}\n",
    "\n",
    "for table in list_of_tables: \n",
    "    if table == ('avrgPir',) or table == ('thput',) or table == ('avrgPrr',) or table == ('psschRxUePhy',):\n",
    "        df_tables[table] = pd.read_sql_query(\"SELECT * FROM \"+table[0]+\";\", con)\n",
    "con.close()\n",
    "#print(df_tables)\n",
    "\n",
    "vtmetric = []\n",
    "vtmetric2 = []\n",
    "dfmetricA = df_tables[('psschRxUePhy',)][['rnti','psschTbler']]\n",
    "for irnti in dfmetricA['rnti'].unique():\n",
    "    vtmetric2=dfmetricA[(dfmetricA['rnti']==irnti)].dropna()\n",
    "    vtmetric2 = np.mean(vtmetric2['psschTbler'])\n",
    "    vtmetric = np.append(vtmetric,vtmetric2)\n",
    "print(vtmetric)\n"
   ]
  },
  {
   "cell_type": "code",
   "execution_count": null,
   "metadata": {},
   "outputs": [],
   "source": []
  }
 ],
 "metadata": {
  "kernelspec": {
   "display_name": "Python 3",
   "language": "python",
   "name": "python3"
  },
  "language_info": {
   "codemirror_mode": {
    "name": "ipython",
    "version": 3
   },
   "file_extension": ".py",
   "mimetype": "text/x-python",
   "name": "python",
   "nbconvert_exporter": "python",
   "pygments_lexer": "ipython3",
   "version": "3.8.5"
  }
 },
 "nbformat": 4,
 "nbformat_minor": 4
}
