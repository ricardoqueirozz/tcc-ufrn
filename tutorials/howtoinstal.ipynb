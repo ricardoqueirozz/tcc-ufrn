{
 "cells": [
  {
   "cell_type": "markdown",
   "metadata": {},
   "source": [
    "# **Instalação do módulo**\n",
    "\n",
    "### **Passo 1:**\n",
    "\n",
    "Clonar a branch abaixo na pasta onde estão as outras instalações do ns-3:\n",
    "\n",
    "```\n",
    "git clone -b v2x-lte-dev https://gitlab.com/cttc-lena/ns-3-dev.git\n",
    "```\n",
    "\n",
    "Abrir a pasta \"src\" e clonar a branch abaixo:\n",
    "\n",
    "```\n",
    "git clone -b nr-v2x-dev https://gitlab.com/cttc-lena/nr.git\n",
    "```"
   ]
  },
  {
   "cell_type": "markdown",
   "metadata": {},
   "source": [
    "Antes de buildar o ns-3 é necessário configurar o cmake usando root, deste modo, se faz necessário executar as linhas de comando abaixo (o primeiro comando só é necessário ser executado uma vez, para definir uma senha):\n",
    "\n",
    "```\n",
    "sudo passwd root\n",
    "```\n",
    "```\n",
    "su -\n",
    "```\n",
    "```\n",
    "apt install g++ python3\n",
    "```\n",
    "```\n",
    "apt install g++ python3 cmake\n",
    "```\n",
    "```\n",
    "apt install g++ python3 python3-dev pkg-config sqlite3 cmake\n",
    "```\n",
    "```\n",
    "apt install python3-setuptools git\n",
    "```\n",
    "```\n",
    "apt install qtbase5-dev qtchooser qt5-qmake qtbase5-dev-tools\n",
    "```\n",
    "```\n",
    "apt install qt5-default\n",
    "```\n",
    "\n"
   ]
  },
  {
   "cell_type": "markdown",
   "metadata": {},
   "source": [
    "Agora sim é possível executar o build do ns-3 normalmente, executando as linhas de comando abaixo na pasta principal do ns-3-dev\n",
    "\n",
    "```\n",
    "./ns3 configure --enable-examples --enable-tests\n",
    "```\n",
    "```\n",
    "./ns3\n",
    "```"
   ]
  },
  {
   "cell_type": "markdown",
   "metadata": {},
   "source": [
    "Por fim, após o build ter sido concluído, roda-se um exemplo para verificar se a instalação procedeu corretamente, assim, executa-se a linha de comando abaixo:\n",
    "\n",
    "```\n",
    "./ns3 run cttc-nr-v2x-demo-simple\n",
    "```"
   ]
  },
  {
   "cell_type": "code",
   "execution_count": null,
   "metadata": {},
   "outputs": [],
   "source": []
  }
 ],
 "metadata": {
  "kernelspec": {
   "display_name": "Python 3",
   "language": "python",
   "name": "python3"
  },
  "language_info": {
   "codemirror_mode": {
    "name": "ipython",
    "version": 3
   },
   "file_extension": ".py",
   "mimetype": "text/x-python",
   "name": "python",
   "nbconvert_exporter": "python",
   "pygments_lexer": "ipython3",
   "version": "3.8.5"
  }
 },
 "nbformat": 4,
 "nbformat_minor": 4
}
